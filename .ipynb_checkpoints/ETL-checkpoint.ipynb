{
 "cells": [
  {
   "cell_type": "code",
   "execution_count": 1,
   "id": "62edb54c-fcf8-40ab-8203-8ce4dcf38745",
   "metadata": {
    "tags": []
   },
   "outputs": [],
   "source": [
    "# Configurações globais\n",
    "cod_orgao_pm = 50300 # Código órgão do Poder Executivo no TCE/RS disponível em http://dados.tce.rs.gov.br/dados/auxiliar/orgaos_auditados_rs.html\n",
    "cod_orgao_cm = 50301 # Código órgão do Poder Legislativo no TCE/RS disponível em http://dados.tce.rs.gov.br/dados/auxiliar/orgaos_auditados_rs.html\n",
    "template_url_balrec = r'http://dados.tce.rs.gov.br/dados/municipal/balancete-receita/<ano>/<codigo-do-orgao>.csv' # URL do BAL_REC\n",
    "template_url_baldesp = r'http://dados.tce.rs.gov.br/dados/municipal/balancete-despesa/<ano>/<codigo-do-orgao>.csv' # URL do BAL_DESP\n",
    "intervalo_anos = (2013, 2022) # Ano inicial e ano final para buscar os dados\n",
    "cod_recurso_rpps = (50,) # Códigos de recursos vinculados do RPPS"
   ]
  },
  {
   "cell_type": "code",
   "execution_count": 2,
   "id": "908d3622-615c-46a4-aef0-977835562f8e",
   "metadata": {
    "tags": []
   },
   "outputs": [],
   "source": [
    "import pandas as pd"
   ]
  },
  {
   "cell_type": "code",
   "execution_count": 3,
   "id": "7a5261b5-e4d6-4248-a05b-f52ba6e2c9df",
   "metadata": {
    "tags": []
   },
   "outputs": [],
   "source": [
    "# Busca os arquivos de dados do portal de dados abertos do TCE/RS.\n",
    "for ano in range(intervalo_anos[0], intervalo_anos[1]+1):\n",
    "    # BAL_REC\n",
    "    url_balrec = template_url_balrec.replace('<ano>', str(ano)).replace('<codigo-do-orgao>', str(cod_orgao_pm))\n",
    "    df = pd.read_csv(url_balrec)\n",
    "    df.to_excel(f'dados/balrec_{ano}.xlsx')\n",
    "    # BAL_DESP da PM\n",
    "    url_baldesp = template_url_baldesp.replace('<ano>', str(ano)).replace('<codigo-do-orgao>', str(cod_orgao_pm))\n",
    "    dfpm = pd.read_csv(url_baldesp)\n",
    "    # BAL_DESP da CM\n",
    "    url_baldesp = template_url_baldesp.replace('<ano>', str(ano)).replace('<codigo-do-orgao>', str(cod_orgao_cm))\n",
    "    dfcm = pd.read_csv(url_baldesp)\n",
    "    # Mesclando BAL_DESP da PM e CM e salvando\n",
    "    df = pd.concat([dfpm, dfcm], ignore_index=True)\n",
    "    df.to_excel(f'dados/baldesp_{ano}.xlsx')"
   ]
  },
  {
   "cell_type": "code",
   "execution_count": 4,
   "id": "78bcfa9f-1a73-4b30-8744-a83f063a9e3c",
   "metadata": {},
   "outputs": [],
   "source": [
    "# Carregando os dados obtidos\n",
    "\n",
    "balrec = {}\n",
    "baldesp = {}\n",
    "for ano in range(intervalo_anos[0], intervalo_anos[1]+1):\n",
    "    # BAL_REC\n",
    "    balrec_file = f'dados/balrec_{ano}.xlsx'\n",
    "    balrec[ano] = pd.read_excel(balrec_file, sheet_name='Sheet1')\n",
    "    # BAL_DESP\n",
    "    baldesp_file = f'dados/baldesp_{ano}.xlsx'\n",
    "    baldesp[ano] = pd.read_excel(baldesp_file, sheet_name='Sheet1')"
   ]
  },
  {
   "cell_type": "code",
   "execution_count": 5,
   "id": "ea892b93-d947-455e-8c98-7fac47d522f0",
   "metadata": {
    "tags": []
   },
   "outputs": [],
   "source": [
    "# Trocando vírgula por ponto nas colunas de valores\n",
    "for ano in range(intervalo_anos[0], intervalo_anos[1]+1):\n",
    "    balrec[ano]['VL_ORCADO'] = balrec[ano]['VL_ORCADO'].replace(',', '.')\n",
    "    balrec[ano]['VL_ARRECADADO'] = balrec[ano]['VL_ARRECADADO'].replace(',', '.')\n",
    "    baldesp[ano]['VL_DOTACAO_INICIAL'] = baldesp[ano]['VL_DOTACAO_INICIAL'].replace(',', '.')\n",
    "    baldesp[ano]['VL_ATUALIZACAO_MONETARIA'] = baldesp[ano]['VL_ATUALIZACAO_MONETARIA'].replace(',', '.')\n",
    "    baldesp[ano]['VL_CREDITOS_SUPLEMENTARES'] = baldesp[ano]['VL_CREDITOS_SUPLEMENTARES'].replace(',', '.')\n",
    "    baldesp[ano]['VL_CREDITOS_ESPECIAIS'] = baldesp[ano]['VL_CREDITOS_ESPECIAIS'].replace(',', '.')\n",
    "    baldesp[ano]['VL_CREDITOS_EXTRAORDINARIOS'] = baldesp[ano]['VL_CREDITOS_EXTRAORDINARIOS'].replace(',', '.')\n",
    "    baldesp[ano]['VL_REDUCAO_DOTACAO'] = baldesp[ano]['VL_REDUCAO_DOTACAO'].replace(',', '.')\n",
    "    baldesp[ano]['VL_SUPLEMENTACAO_RECURSO'] = baldesp[ano]['VL_SUPLEMENTACAO_RECURSO'].replace(',', '.')\n",
    "    baldesp[ano]['VL_REDUCAO_RECURSO'] = baldesp[ano]['VL_REDUCAO_RECURSO'].replace(',', '.')\n",
    "    baldesp[ano]['VL_EMPENHADO'] = baldesp[ano]['VL_EMPENHADO'].replace(',', '.')\n",
    "    baldesp[ano]['VL_LIQUIDADO'] = baldesp[ano]['VL_LIQUIDADO'].replace(',', '.')\n",
    "    baldesp[ano]['VL_PAGO'] = baldesp[ano]['VL_PAGO'].replace(',', '.')\n",
    "    baldesp[ano]['VL_LIMITADO'] = baldesp[ano]['VL_LIMITADO'].replace(',', '.')\n",
    "    baldesp[ano]['VL_RECOMPOSICAO'] = baldesp[ano]['VL_RECOMPOSICAO'].replace(',', '.')\n",
    "    baldesp[ano]['VL_PREVISAO_EXECUCAO'] = baldesp[ano]['VL_PREVISAO_EXECUCAO'].replace(',', '.')\n",
    "    \n",
    "    "
   ]
  },
  {
   "cell_type": "code",
   "execution_count": 6,
   "id": "086ee55d-b68f-4bab-bf1e-b98a8c37025a",
   "metadata": {
    "tags": []
   },
   "outputs": [],
   "source": [
    "# Definindo o tipo de dados dos campos\n",
    "for ano in range(intervalo_anos[0], intervalo_anos[1]+1):\n",
    "    # BAL_REC\n",
    "    balrec[ano].astype({\n",
    "        'ANO': int,\n",
    "        'COD_MUNICIPIO': int,\n",
    "        'NOME_MUNICIPIO': str,\n",
    "        'CD_ORGAO': int,\n",
    "        'NOME_ORGAO': str,\n",
    "        'CD_RECEBIMENTO': int,\n",
    "        'CD_ORGAO_ORCAMENTARIO': int,\n",
    "        'NOME_ORGAO_ORCAMENTARIO': str,\n",
    "        'CD_UNIDADE_ORCAMENTARIA': int,\n",
    "        'NOME_UNIDADE': str,\n",
    "        'TP_UNIDADE': str,\n",
    "        'CD_CONTA_SG': str,\n",
    "        'DS_CONTA_SG': str,\n",
    "        'NIVEL': str,\n",
    "        'NR_NIVEL': int,\n",
    "        'CD_RECURSO': int,\n",
    "        'NM_RECURSO': str,\n",
    "        'CAR_PECULIAR': int,\n",
    "        'DS_CAR_PECULIAR': str,\n",
    "        'VL_ORCADO': float,\n",
    "        'VL_ARRECADADO': float\n",
    "    }, errors='ignore')\n",
    "    # BAL_DESP\n",
    "    baldesp[ano].astype({\n",
    "        'ANO': int,\n",
    "        'COD_MUNICIPIO': int,\n",
    "        'NOME_MUNICIPIO': str,\n",
    "        'CD_ORGAO': int,\n",
    "        'NOME_ORGAO': str,\n",
    "        'CD_RECEBIMENTO': int,\n",
    "        'CD_ORGAO_ORCAMENTARIO': int,\n",
    "        'NOME_ORGAO_ORCAMENTARIO': str,\n",
    "        'CD_UNIDADE_ORCAMENTARIA': int,\n",
    "        'NOME_UNIDADE': str,\n",
    "        'TP_UNIDADE': str,\n",
    "        'CD_FUNCAO': int,\n",
    "        'DS_FUNCAO': str,\n",
    "        'CD_SUBFUNCAO': int,\n",
    "        'DS_SUBFUNCAO': str,\n",
    "        'CD_PROGRAMA': int,\n",
    "        'DS_PROGRAMA': str,\n",
    "        'CD_PROJETO': int,\n",
    "        'NM_PROJETO': str,\n",
    "        'CD_ELEMENTO': str,\n",
    "        'CD_RECURSO': int,\n",
    "        'NM_RECURSO': str,\n",
    "        'VL_DOTACAO_INICIAL': float,\n",
    "        'VL_ATUALIZACAO_MONETARIA': float,\n",
    "        'VL_CREDITOS_SUPLEMENTARES': float,\n",
    "        'VL_CREDITOS_ESPECIAIS': float,\n",
    "        'VL_CREDITOS_EXTRAORDINARIOS': float,\n",
    "        'VL_REDUCAO_DOTACAO': float,\n",
    "        'VL_SUPLEMENTACAO_RECURSO': float,\n",
    "        'VL_REDUCAO_RECURSO': float,\n",
    "        'VL_EMPENHADO': float,\n",
    "        'VL_LIQUIDADO': float,\n",
    "        'VL_PAGO': float,\n",
    "        'VL_LIMITADO': float,\n",
    "        'VL_RECOMPOSICAO': float,\n",
    "        'VL_PREVISAO_EXECUCAO': float\n",
    "    }, errors='ignore')"
   ]
  },
  {
   "cell_type": "code",
   "execution_count": 7,
   "id": "254189b1-cdd8-44cf-8557-d96b21ec1571",
   "metadata": {
    "tags": []
   },
   "outputs": [],
   "source": [
    "# Filtrando so dados para manter apenas a remessa do mês 12/bimestre 6\n",
    "for ano in range(intervalo_anos[0], intervalo_anos[1]+1):\n",
    "    # BAL_REC\n",
    "    if 'BIMESTRE' in balrec[ano].columns:\n",
    "        balrec[ano] = balrec[ano][balrec[ano]['BIMESTRE']==6]\n",
    "    elif 'MES' in balrec[ano].columns:\n",
    "        balrec[ano] = balrec[ano][balrec[ano]['MES']==12]\n",
    "    else:\n",
    "        print(f'Falha ao filtrar o BAL_REC para o ano {ano}!')\n",
    "    # BAL_DESP\n",
    "    if 'BIMESTRE' in baldesp[ano].columns:\n",
    "        baldesp[ano] = baldesp[ano][baldesp[ano]['BIMESTRE']==6]\n",
    "    elif 'MES' in baldesp[ano].columns:\n",
    "        baldesp[ano] = baldesp[ano][baldesp[ano]['MES']==12]\n",
    "    else:\n",
    "        print(f'Falha ao filtrar o BAL_DESP para o ano {ano}!')"
   ]
  },
  {
   "cell_type": "code",
   "execution_count": 8,
   "id": "b69f4a67-1aed-4088-bdf0-dd6b92aa23c4",
   "metadata": {
    "tags": []
   },
   "outputs": [],
   "source": [
    "# Filtrando os dados da receita para manter apenas a prefeitura e as contas analíticas\n",
    "for ano in range(intervalo_anos[0], intervalo_anos[1]+1):\n",
    "    balrec[ano] = balrec[ano][balrec[ano]['NIVEL']=='A']\n",
    "    balrec[ano] = balrec[ano][~balrec[ano]['CD_RECURSO'].isin(cod_recurso_rpps)]"
   ]
  },
  {
   "cell_type": "code",
   "execution_count": 9,
   "id": "bcc5e0c5-7eff-4061-ad83-dd93bc5a90be",
   "metadata": {
    "tags": []
   },
   "outputs": [],
   "source": [
    "# Filtrando os dados da despesa para manter apenas a prefeitura e a câmara\n",
    "for ano in range(intervalo_anos[0], intervalo_anos[1]+1):\n",
    "    baldesp[ano] = baldesp[ano][~baldesp[ano]['CD_RECURSO'].isin(cod_recurso_rpps)]"
   ]
  },
  {
   "cell_type": "code",
   "execution_count": 10,
   "id": "f8083e05-c26f-43f8-9c77-4be8cb29e829",
   "metadata": {
    "tags": []
   },
   "outputs": [],
   "source": [
    "# Remove coluna BIMESTRE/MES\n",
    "for ano in range(intervalo_anos[0], intervalo_anos[1]+1):\n",
    "    # BAL_REC\n",
    "    if 'BIMESTRE' in balrec[ano].columns:\n",
    "        balrec[ano] = balrec[ano].drop('BIMESTRE', axis=1)\n",
    "    elif 'MES' in balrec[ano].columns:\n",
    "        balrec[ano] = balrec[ano].drop('MES', axis=1)\n",
    "    else:\n",
    "        print(f'Falha ao excluir campo BIMESTRE/MES do BAL_REC para o ano {ano}!')\n",
    "    # BAL_DESP\n",
    "    if 'BIMESTRE' in baldesp[ano].columns:\n",
    "        baldesp[ano] = baldesp[ano].drop('BIMESTRE', axis=1)\n",
    "    elif 'MES' in baldesp[ano].columns:\n",
    "        baldesp[ano] = baldesp[ano].drop('MES', axis=1)\n",
    "    else:\n",
    "        print(f'Falha ao excluir campo BIMESTRE/MES do BAL_DESP para o ano {ano}!')"
   ]
  },
  {
   "cell_type": "code",
   "execution_count": 11,
   "id": "20a745af-194b-4fe2-9896-b36fb347c7e5",
   "metadata": {
    "tags": []
   },
   "outputs": [],
   "source": [
    "# Mesclando os dados num único arquivo\n",
    "\n",
    "dfrec = None\n",
    "dfdesp = None\n",
    "for ano in range(intervalo_anos[0], intervalo_anos[1]+1):\n",
    "    if dfrec is None:\n",
    "        dfrec = balrec[ano]\n",
    "    else:\n",
    "        dfrec = pd.concat([dfrec, balrec[ano]], ignore_index=True)\n",
    "    if dfdesp is None:\n",
    "        dfdesp = baldesp[ano]\n",
    "    else:\n",
    "        dfdesp = pd.concat([dfdesp, baldesp[ano]], ignore_index=True)"
   ]
  },
  {
   "cell_type": "code",
   "execution_count": 12,
   "id": "43a1dc9c-d874-46d3-ae6e-bd101fb24044",
   "metadata": {
    "tags": []
   },
   "outputs": [],
   "source": [
    "# Salvando os dados finais em um arquivo, para auditoria\n",
    "with pd.ExcelWriter('dados/dados.xlsx') as writer:\n",
    "    dfrec.to_excel(writer, sheet_name='BAL_REC')\n",
    "    dfdesp.to_excel(writer, sheet_name='BAL_DESP')"
   ]
  }
 ],
 "metadata": {
  "kernelspec": {
   "display_name": "Python 3 (ipykernel)",
   "language": "python",
   "name": "python3"
  },
  "language_info": {
   "codemirror_mode": {
    "name": "ipython",
    "version": 3
   },
   "file_extension": ".py",
   "mimetype": "text/x-python",
   "name": "python",
   "nbconvert_exporter": "python",
   "pygments_lexer": "ipython3",
   "version": "3.10.5"
  }
 },
 "nbformat": 4,
 "nbformat_minor": 5
}
